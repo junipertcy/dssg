{
 "cells": [
  {
   "cell_type": "code",
   "execution_count": 22,
   "metadata": {
    "collapsed": false
   },
   "outputs": [],
   "source": [
    "from pymongo import MongoClient\n",
    "from ConfigParser import SafeConfigParser\n",
    "from logging import getLogger\n",
    "from datetime import datetime\n",
    "\n",
    "def errorCatcher(d, key):\n",
    "    try:\n",
    "        d[key]\n",
    "        return d[key]\n",
    "    except:\n",
    "        return 0\n",
    "\n",
    "\n",
    "class MongoOps(object):\n",
    "\n",
    "    def __init__(self):\n",
    "        self.dbClient = MongoClient(\"localhost\", 27017)\n",
    "        self.db = self.dbClient[\"polis\"]\n",
    "\n",
    "    def getNodes(self, queryList):\n",
    "        queriedNodes = self.db.polis_nodes.aggregate([{\n",
    "            \"$match\": {\n",
    "                \"type\": queryList[0]\n",
    "            }\n",
    "        }, {\n",
    "            \"$project\": {\n",
    "                \"_id\": 0,\n",
    "                \"id\": \"$id\"\n",
    "            }\n",
    "        }])\n",
    "        nodeList = []\n",
    "        for item in queriedNodes:\n",
    "            nodeList.append(item[\"id\"])\n",
    "\n",
    "        return nodeList\n",
    "\n",
    "    def getEdges(self, queryList, consensus):\n",
    "        queriedEdges = self.db.polis_edges.aggregate([{\n",
    "            \"$match\": {\n",
    "                \"type\": queryList[0]\n",
    "            }\n",
    "        }, {\n",
    "            \"$project\": {\n",
    "                \"_id\": 0,\n",
    "                \"source\": \"$source\",\n",
    "                \"target\": \"$target\",\n",
    "                \"weight\": \"$weight\"\n",
    "            }\n",
    "        }])\n",
    "\n",
    "        edgeList = []\n",
    "        for item in queriedEdges:\n",
    "            edgeList.append((item[\"source\"], item[\"target\"], errorCatcher(item[\"weight\"], consensus)))\n",
    "\n",
    "        return edgeList"
   ]
  },
  {
   "cell_type": "code",
   "execution_count": 23,
   "metadata": {
    "collapsed": false
   },
   "outputs": [],
   "source": [
    "ops = MongoOps()\n",
    "queryList = [\"opinion\"]\n",
    "# queriedNodes = ops.getNodes(queryList)\n",
    "queriedEdges_agree = ops.getEdges(queryList, 'agree')\n",
    "queriedEdges_disagree = ops.getEdges(queryList, 'disagree')\n",
    "queriedEdges_moderate = ops.getEdges(queryList, 'moderate')"
   ]
  },
  {
   "cell_type": "code",
   "execution_count": 24,
   "metadata": {
    "collapsed": false
   },
   "outputs": [],
   "source": [
    "import graph_tool.all as gt\n",
    "import itertools\n",
    "import time\n",
    "from logging import getLogger\n",
    "from operator import itemgetter\n",
    "g = gt.Graph()"
   ]
  },
  {
   "cell_type": "code",
   "execution_count": 57,
   "metadata": {
    "collapsed": false
   },
   "outputs": [],
   "source": [
    "iedges_agree = [[int(e[0]), int(e[1])] for e in queriedEdges_agree]\n",
    "g.add_edge_list(iedges_agree)\n",
    "\n",
    "iedges_disagree = [[int(e[0]), int(e[1])] for e in queriedEdges_disagree]\n",
    "# g.add_edge_list(iedges_disagree)\n",
    "\n",
    "iedges_moderate = [[int(e[0]), int(e[1])] for e in queriedEdges_moderate]\n",
    "# g.add_edge_list(iedges_moderate)"
   ]
  },
  {
   "cell_type": "code",
   "execution_count": 55,
   "metadata": {
    "collapsed": false
   },
   "outputs": [],
   "source": [
    "whole_list = iedges_agree + iedges_disagree + iedges_moderate\n",
    "unique_edges = [set(tuple(x)) for x in whole_list]"
   ]
  },
  {
   "cell_type": "code",
   "execution_count": 58,
   "metadata": {
    "collapsed": false
   },
   "outputs": [
    {
     "data": {
      "text/plain": [
       "<Graph object, directed, with 692 vertices and 101719 edges at 0x1026c23d0>"
      ]
     },
     "execution_count": 58,
     "metadata": {},
     "output_type": "execute_result"
    }
   ],
   "source": []
  },
  {
   "cell_type": "code",
   "execution_count": 59,
   "metadata": {
    "collapsed": false
   },
   "outputs": [],
   "source": [
    "edge_weight = g.new_edge_property(\"vector<int64_t>\")\n",
    "\n",
    "for e in queriedEdges_agree:\n",
    "    edge_weight[g.edge(e[0], e[1])] = [e[2], 0, 0]\n",
    "    \n",
    "for e in queriedEdges_disagree:\n",
    "    edge_weight[g.edge(e[0], e[1])][1] = e[2]\n",
    "    \n",
    "for e in queriedEdges_moderate:\n",
    "    edge_weight[g.edge(e[0], e[1])][2] = e[2]"
   ]
  },
  {
   "cell_type": "code",
   "execution_count": 110,
   "metadata": {
    "collapsed": false
   },
   "outputs": [],
   "source": [
    "# u = gt.GraphView(g, efilt=lambda x: unary(x), directed=True)\n",
    "# gc = gt.Graph(u, prune=True)\n",
    "\n",
    "l = gt.label_largest_component(gc, directed=False)\n",
    "uu = gt.GraphView(g, vfilt=(l.a == False), directed=True)\n",
    "gcc = gt.Graph(uu, prune=True)"
   ]
  },
  {
   "cell_type": "code",
   "execution_count": 124,
   "metadata": {
    "collapsed": false
   },
   "outputs": [
    {
     "data": {
      "text/plain": [
       "(<PropertyMap object with key type 'Vertex' and value type 'vector<double>', for Graph 0x130fb99d0, at 0x130fb9d90>,\n",
       " <PropertyMap object with key type 'Vertex' and value type 'bool', for Graph 0x130fb99d0, at 0x1301de210>)"
      ]
     },
     "execution_count": 124,
     "metadata": {},
     "output_type": "execute_result"
    }
   ],
   "source": [
    "# pos = gt.sfdp_layout(gc)\n",
    "ebet = gt.betweenness(gc)[1]\n",
    "gt.graph_draw(gc, pos=pos, edge_color=ebet)"
   ]
  },
  {
   "cell_type": "code",
   "execution_count": 122,
   "metadata": {
    "collapsed": false
   },
   "outputs": [],
   "source": [
    "def unary(x):\n",
    "    try:\n",
    "        cond = edge_weight[x].a[0] > 10 and edge_weight[x].a[1] > 10\n",
    "        return cond\n",
    "    except:\n",
    "        print 'catched error!'\n",
    "        return False\n",
    "    \n",
    "def edgeColor(x):\n",
    "    print x\n",
    "    if edge_weight[x].a[0] > 10:\n",
    "        return [0.179, 0.203,0.210, 0.8]\n",
    "    else: \n",
    "        return [0., 0.,0., 0.8]"
   ]
  },
  {
   "cell_type": "code",
   "execution_count": 111,
   "metadata": {
    "collapsed": false
   },
   "outputs": [
    {
     "data": {
      "text/plain": [
       "<Graph object, directed, with 445 vertices and 19982 edges at 0x130fafa90>"
      ]
     },
     "execution_count": 111,
     "metadata": {},
     "output_type": "execute_result"
    }
   ],
   "source": [
    "gcc"
   ]
  },
  {
   "cell_type": "code",
   "execution_count": null,
   "metadata": {
    "collapsed": false
   },
   "outputs": [],
   "source": [
    "unary(g.edge(1,0))"
   ]
  },
  {
   "cell_type": "code",
   "execution_count": null,
   "metadata": {
    "collapsed": false
   },
   "outputs": [],
   "source": [
    "edge_weight"
   ]
  },
  {
   "cell_type": "code",
   "execution_count": null,
   "metadata": {
    "collapsed": false
   },
   "outputs": [],
   "source": [
    "print g.edge(0,1)"
   ]
  },
  {
   "cell_type": "code",
   "execution_count": null,
   "metadata": {
    "collapsed": true
   },
   "outputs": [],
   "source": [
    "import numpy as np"
   ]
  },
  {
   "cell_type": "code",
   "execution_count": null,
   "metadata": {
    "collapsed": false
   },
   "outputs": [],
   "source": [
    "np.ndarray(edge_weight, dtype=float, order='F')"
   ]
  },
  {
   "cell_type": "code",
   "execution_count": null,
   "metadata": {
    "collapsed": false
   },
   "outputs": [],
   "source": []
  },
  {
   "cell_type": "code",
   "execution_count": null,
   "metadata": {
    "collapsed": true
   },
   "outputs": [],
   "source": []
  }
 ],
 "metadata": {
  "kernelspec": {
   "display_name": "Python 2",
   "language": "python",
   "name": "python2"
  },
  "language_info": {
   "codemirror_mode": {
    "name": "ipython",
    "version": 2
   },
   "file_extension": ".py",
   "mimetype": "text/x-python",
   "name": "python",
   "nbconvert_exporter": "python",
   "pygments_lexer": "ipython2",
   "version": "2.7.11"
  }
 },
 "nbformat": 4,
 "nbformat_minor": 0
}
